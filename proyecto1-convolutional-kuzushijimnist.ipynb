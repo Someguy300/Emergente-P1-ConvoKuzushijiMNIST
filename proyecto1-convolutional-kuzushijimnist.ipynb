{
 "cells": [
  {
   "cell_type": "code",
   "execution_count": 1,
   "id": "fccfc815",
   "metadata": {
    "execution": {
     "iopub.execute_input": "2022-06-06T17:03:47.268318Z",
     "iopub.status.busy": "2022-06-06T17:03:47.267257Z",
     "iopub.status.idle": "2022-06-06T17:03:49.635344Z",
     "shell.execute_reply": "2022-06-06T17:03:49.634209Z"
    },
    "papermill": {
     "duration": 2.376988,
     "end_time": "2022-06-06T17:03:49.638281",
     "exception": false,
     "start_time": "2022-06-06T17:03:47.261293",
     "status": "completed"
    },
    "tags": []
   },
   "outputs": [
    {
     "name": "stdout",
     "output_type": "stream",
     "text": [
      "[INFO] torch loaded\n"
     ]
    }
   ],
   "source": [
    "# Load in relevant libraries, and alias where appropriate\n",
    "import torch\n",
    "import torchvision\n",
    "from torchvision import transforms, datasets\n",
    "\n",
    "import torch.nn as nn\n",
    "\n",
    "import numpy as np\n",
    "\n",
    "import helper\n",
    "\n",
    "print(\"[INFO] torch loaded\")"
   ]
  },
  {
   "cell_type": "markdown",
   "id": "eba94f15",
   "metadata": {
    "papermill": {
     "duration": 0.003522,
     "end_time": "2022-06-06T17:03:49.645502",
     "exception": false,
     "start_time": "2022-06-06T17:03:49.641980",
     "status": "completed"
    },
    "tags": []
   },
   "source": [
    "Carga de datos del dataset de Kuzushiji-MNIST de Anokas"
   ]
  },
  {
   "cell_type": "code",
   "execution_count": 2,
   "id": "b5a52899",
   "metadata": {
    "execution": {
     "iopub.execute_input": "2022-06-06T17:03:49.655285Z",
     "iopub.status.busy": "2022-06-06T17:03:49.654363Z",
     "iopub.status.idle": "2022-06-06T17:03:50.493582Z",
     "shell.execute_reply": "2022-06-06T17:03:50.492098Z"
    },
    "papermill": {
     "duration": 0.847278,
     "end_time": "2022-06-06T17:03:50.496401",
     "exception": false,
     "start_time": "2022-06-06T17:03:49.649123",
     "status": "completed"
    },
    "tags": []
   },
   "outputs": [
    {
     "name": "stdout",
     "output_type": "stream",
     "text": [
      "[INFO] loading the KMNIST dataset...\n",
      "[INFO] KMNIST dataset 50% loaded\n"
     ]
    }
   ],
   "source": [
    "# convert data to torch.FloatTensor\n",
    "transform = transforms.ToTensor()\n",
    "\n",
    "print(\"[INFO] loading the KMNIST dataset...\")\n",
    "arr_train_img = np.load(\"../input/kuzushiji/kmnist-train-imgs.npz\")['arr_0']\n",
    "arr_train_label = np.load(\"../input/kuzushiji/kmnist-train-labels.npz\")['arr_0']\n",
    "arr_test_img = np.load(\"../input/kuzushiji/kmnist-test-imgs.npz\")['arr_0']\n",
    "arr_test_label = np.load(\"../input/kuzushiji/kmnist-test-imgs.npz\")['arr_0']\n",
    "\n",
    "train_tensor_img = torch.from_numpy(arr_train_img)\n",
    "train_tensor_label = torch.from_numpy(arr_train_label)\n",
    "test_tensor_img = torch.from_numpy(arr_test_img)\n",
    "test_tensor_label = torch.from_numpy(arr_test_label)\n",
    "\n",
    "\n",
    "print(\"[INFO] KMNIST dataset 50% loaded\")"
   ]
  },
  {
   "cell_type": "markdown",
   "id": "dffadfbc",
   "metadata": {
    "papermill": {
     "duration": 0.005489,
     "end_time": "2022-06-06T17:03:50.505549",
     "exception": false,
     "start_time": "2022-06-06T17:03:50.500060",
     "status": "completed"
    },
    "tags": []
   },
   "source": [
    "Clases, hiperparametros y Dataloader de pytorch estableciendo set de entrenamiento y set de pruebas"
   ]
  },
  {
   "cell_type": "code",
   "execution_count": 3,
   "id": "09eff0f1",
   "metadata": {
    "execution": {
     "iopub.execute_input": "2022-06-06T17:03:50.514358Z",
     "iopub.status.busy": "2022-06-06T17:03:50.513889Z",
     "iopub.status.idle": "2022-06-06T17:03:50.523324Z",
     "shell.execute_reply": "2022-06-06T17:03:50.522109Z"
    },
    "papermill": {
     "duration": 0.016769,
     "end_time": "2022-06-06T17:03:50.525771",
     "exception": false,
     "start_time": "2022-06-06T17:03:50.509002",
     "status": "completed"
    },
    "tags": []
   },
   "outputs": [
    {
     "name": "stdout",
     "output_type": "stream",
     "text": [
      "[INFO] KMNIST dataset loaded\n"
     ]
    }
   ],
   "source": [
    "#HIPERPARAMETROS Y DEMAS\n",
    "\n",
    "# Creando las clases para los diferentes familias de caracteres para clasificar\n",
    "classes = ('Vocales', 'Familia de K', 'Familia de S', 'Familia de T'\n",
    "           , 'Familia de N', 'Familia de H', 'Familia de M', 'Familia de Y'\n",
    "           , 'Familia de R', 'Familia de W')\n",
    "\n",
    "# Definimos el tamaños de los batch, los Epoch y el rate de aprendizaje\n",
    "batch_size = 64\n",
    "learning_rate = 0.01\n",
    "drop_rate = 0.25\n",
    "epochs = 60\n",
    "\n",
    "\n",
    "trainset = torch.utils.data.TensorDataset(train_tensor_img,train_tensor_label)\n",
    "trainloader = torch.utils.data.DataLoader(trainset, batch_size=batch_size, shuffle=False)\n",
    "\n",
    "testset = torch.utils.data.TensorDataset(test_tensor_img,test_tensor_label)\n",
    "testloader = torch.utils.data.DataLoader(testset, batch_size=batch_size, shuffle=True)\n",
    "\n",
    "print(\"[INFO] KMNIST dataset loaded\")"
   ]
  },
  {
   "cell_type": "markdown",
   "id": "61e54085",
   "metadata": {
    "papermill": {
     "duration": 0.003215,
     "end_time": "2022-06-06T17:03:50.532545",
     "exception": false,
     "start_time": "2022-06-06T17:03:50.529330",
     "status": "completed"
    },
    "tags": []
   },
   "source": [
    "OPCIONAL: Visualizacion de datos cargados del dataset"
   ]
  },
  {
   "cell_type": "code",
   "execution_count": 4,
   "id": "b4c32edd",
   "metadata": {
    "execution": {
     "iopub.execute_input": "2022-06-06T17:03:50.542112Z",
     "iopub.status.busy": "2022-06-06T17:03:50.540807Z",
     "iopub.status.idle": "2022-06-06T17:03:50.931844Z",
     "shell.execute_reply": "2022-06-06T17:03:50.930863Z"
    },
    "papermill": {
     "duration": 0.398019,
     "end_time": "2022-06-06T17:03:50.934106",
     "exception": false,
     "start_time": "2022-06-06T17:03:50.536087",
     "status": "completed"
    },
    "tags": []
   },
   "outputs": [
    {
     "name": "stdout",
     "output_type": "stream",
     "text": [
      "De izquierda a derecha\n",
      "Valor: 8 Clasificacion: Familia de R\n",
      "Valor: 7 Clasificacion: Familia de Y\n",
      "Valor: 0 Clasificacion: Vocales\n",
      "Valor: 1 Clasificacion: Familia de K\n"
     ]
    },
    {
     "data": {
      "image/png": "[encoded data removed]",
      "text/plain": [
       "<Figure size 720x288 with 4 Axes>"
      ]
     },
     "metadata": {
      "needs_background": "light"
     },
     "output_type": "display_data"
    }
   ],
   "source": [
    "#HELPER TO VISUALIZE IMAGES\n",
    "import matplotlib.pyplot as plt\n",
    "import numpy as np\n",
    "\n",
    "def imshow(image, ax=None, title=None):\n",
    "    \"\"\"Imshow for Tensor.\"\"\"\n",
    "    if ax is None:\n",
    "        fig, ax = plt.subplots()\n",
    "\n",
    "\n",
    "    ax.imshow(image)\n",
    "    ax.spines['top'].set_visible(True)\n",
    "    ax.spines['right'].set_visible(True)\n",
    "    ax.spines['left'].set_visible(True)\n",
    "    ax.spines['bottom'].set_visible(True)\n",
    "    ax.tick_params(axis='both', length=0)\n",
    "    ax.set_xticklabels('')\n",
    "    ax.set_yticklabels('')\n",
    "\n",
    "    return ax\n",
    "\n",
    "\n",
    "data_iter = iter(trainloader)\n",
    "\n",
    "images, labels = next(data_iter)\n",
    "fig, axes = plt.subplots(figsize=(10,4), ncols=4)\n",
    "print(\"De izquierda a derecha\")\n",
    "for ii in range(4):\n",
    "    ax = axes[ii]\n",
    "    imshow(images[ii], ax=ax)\n",
    "    print(\"Valor: \" + str(labels[ii].item()) + \" Clasificacion: \" +classes[labels[ii].item()])"
   ]
  },
  {
   "cell_type": "markdown",
   "id": "698f07ad",
   "metadata": {
    "papermill": {
     "duration": 0.004254,
     "end_time": "2022-06-06T17:03:50.942383",
     "exception": false,
     "start_time": "2022-06-06T17:03:50.938129",
     "status": "completed"
    },
    "tags": []
   },
   "source": [
    "MODELOS DE REDES NEURONALES"
   ]
  },
  {
   "cell_type": "code",
   "execution_count": null,
   "id": "42a3d412",
   "metadata": {
    "papermill": {
     "duration": 0.004598,
     "end_time": "2022-06-06T17:03:50.952669",
     "exception": false,
     "start_time": "2022-06-06T17:03:50.948071",
     "status": "completed"
    },
    "tags": []
   },
   "outputs": [],
   "source": []
  }
 ],
 "metadata": {
  "kernelspec": {
   "display_name": "Python 3",
   "language": "python",
   "name": "python3"
  },
  "language_info": {
   "codemirror_mode": {
    "name": "ipython",
    "version": 3
   },
   "file_extension": ".py",
   "mimetype": "text/x-python",
   "name": "python",
   "nbconvert_exporter": "python",
   "pygments_lexer": "ipython3",
   "version": "3.7.12"
  },
  "papermill": {
   "default_parameters": {},
   "duration": 15.768737,
   "end_time": "2022-06-06T17:03:51.779116",
   "environment_variables": {},
   "exception": null,
   "input_path": "__notebook__.ipynb",
   "output_path": "__notebook__.ipynb",
   "parameters": {},
   "start_time": "2022-06-06T17:03:36.010379",
   "version": "2.3.4"
  }
 },
 "nbformat": 4,
 "nbformat_minor": 5
}
